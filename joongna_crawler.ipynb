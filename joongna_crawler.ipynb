{
 "cells": [
  {
   "cell_type": "code",
   "execution_count": 3,
   "metadata": {},
   "outputs": [],
   "source": [
    "import pandas as pd\n",
    "import json\n",
    "import requests"
   ]
  },
  {
   "cell_type": "code",
   "execution_count": 4,
   "metadata": {},
   "outputs": [],
   "source": [
    "query=\"아이폰13\"\n",
    "url = f'https://search-api.joongna.com/v25/search/product'\n",
    "data = {\n",
    "    \"filter\":{\n",
    "#         \"categoryDepth\":0,\n",
    "#         \"categorySeq\":0,\n",
    "        \"dateFilterParameter\":{\n",
    "            \"sortEndDate\":\"2022-04-15\",\n",
    "            \"sortStartDate\":\"2022-04-13\"\n",
    "        },\n",
    "        \"productCondition\":-1,\n",
    "        \"flawedYn\":0,\n",
    "        \"fullPackageYn\":0,\n",
    "        \"limitedEditionYn\":0,\n",
    "        \"maxPrice\":2000000000,\n",
    "        \"minPrice\":0,\n",
    "        \"tradeType\":0\n",
    "    },\n",
    "    \"page\":0,\n",
    "    \"firstQuantity\":10000,\n",
    "    \"productFilter\":\"ALL\",\n",
    "    \"productStates\":[\n",
    "#         0,\n",
    "#         1,\n",
    "        99\n",
    "    ],\n",
    "    \"quantity\":10000,\n",
    "    \"searchQuantity\":10000,\n",
    "    \"osType\":2,\n",
    "    \"searchWord\":\"아이폰13\",\n",
    "    \"sort\":\"RECENT_SORT\",\n",
    "    \"startIndex\":0,\n",
    "#     \"searchStartTime\":\"2022-04-15 14:55:21\"\n",
    "}"
   ]
  },
  {
   "cell_type": "code",
   "execution_count": null,
   "metadata": {},
   "outputs": [],
   "source": [
    "data_page={\n",
    "    \"filter\":{\n",
    "        \"categoryDepth\":0,\n",
    "        \"categorySeq\":0,\n",
    "        \"dateFilterParameter\":{\n",
    "            \"sortEndDate\":\"2022-04-15\",\n",
    "            \"sortStartDate\":\"2022-04-14\"\n",
    "        },\n",
    "        \"productCondition\":-1,\n",
    "        \"flawedYn\":0,\n",
    "        \"fullPackageYn\":0,\n",
    "        \"limitedEditionYn\":0,\n",
    "        \"maxPrice\":2000000000,\n",
    "        \"minPrice\":0,\n",
    "        \"tradeType\":0\n",
    "    },\n",
    "    \"page\":21,\n",
    "    \"firstQuantity\":10,\n",
    "    \"productFilter\":\"ALL\",\n",
    "    \"productStates\":[\n",
    "        0,\n",
    "        1\n",
    "    ],\n",
    "    \"quantity\":10,\n",
    "    \"searchQuantity\":10,\n",
    "    \"osType\":2,\n",
    "    \"searchWord\":\"아이폰13\",\n",
    "    \"sort\":\"RECENT_SORT\",\n",
    "    \"startIndex\":21,\n",
    "    \"searchStartTime\":\"2022-04-15 16:42:07\"\n",
    "}"
   ]
  },
  {
   "cell_type": "code",
   "execution_count": null,
   "metadata": {},
   "outputs": [],
   "source": [
    "n={\n",
    "    \"filter\":{\n",
    "        \"categoryDepth\":0,\n",
    "        \"categorySeq\":0,\n",
    "        \"dateFilterParameter\":{\n",
    "            \"sortEndDate\":\"2022-04-15\",\n",
    "            \"sortStartDate\":\"2022-04-14\"\n",
    "        },\n",
    "        \"productCondition\":-1,\n",
    "        \"flawedYn\":0,\n",
    "        \"fullPackageYn\":0,\n",
    "        \"limitedEditionYn\":0,\n",
    "        \"maxPrice\":2000000000,\n",
    "        \"minPrice\":0,\n",
    "        \"tradeType\":0\n",
    "    },\n",
    "    \"page\":22,\n",
    "    \"firstQuantity\":10,\n",
    "    \"productFilter\":\"ALL\",\n",
    "    \"productStates\":[\n",
    "        0,\n",
    "        1\n",
    "    ],\n",
    "    \"quantity\":10,\n",
    "    \"searchQuantity\":10,\n",
    "    \"osType\":2,\n",
    "    \"searchWord\":\"아이폰13\",\n",
    "    \"sort\":\"RECENT_SORT\",\n",
    "    \"startIndex\":22,\n",
    "    \"searchStartTime\":\"2022-04-15 16:43:24\"\n",
    "}"
   ]
  },
  {
   "cell_type": "raw",
   "metadata": {},
   "source": []
  },
  {
   "cell_type": "code",
   "execution_count": 5,
   "metadata": {},
   "outputs": [],
   "source": [
    "#json.dumps\n",
    "response= requests.post(url,json=(data))\n",
    "data=response.json()['data']"
   ]
  },
  {
   "cell_type": "code",
   "execution_count": 8,
   "metadata": {},
   "outputs": [
    {
     "data": {
      "text/plain": [
       "4067"
      ]
     },
     "execution_count": 8,
     "metadata": {},
     "output_type": "execute_result"
    }
   ],
   "source": [
    "len(data['items'])"
   ]
  },
  {
   "cell_type": "code",
   "execution_count": 11,
   "metadata": {},
   "outputs": [
    {
     "data": {
      "text/plain": [
       "{'seq': 0,\n",
       " 'productPositionNo': 1001,\n",
       " 'highlightedTitle': '[24시]<em>아이폰</em><em>13</em> 미니 <em>13</em>프로 맥스 (애플/삼성전기종 최고가매입)',\n",
       " 'storeSeq': 0,\n",
       " 'platformType': 4,\n",
       " 'storeProfileUrl': 'https://img2.joongna.com/common/profile_naver_img.jpg?impolicy=thumb&size=50',\n",
       " 'storeNickname': '',\n",
       " 'userName': '',\n",
       " 'detailImgUrl': None,\n",
       " 'mainLocationName': '',\n",
       " 'locationNames': None,\n",
       " 'articleUrl': 'https://m.cafe.naver.com/ArticleRead.nhn?clubid=10050146&menuid=339&boardtype=C&page=1&articleid=910830999&referrerAllArticles=false',\n",
       " 'menuId': 339,\n",
       " 'articleSeq': 910830999,\n",
       " 'articleRegDate': '2022-04-15 02:39:40',\n",
       " 'articleBadgeShow': 0,\n",
       " 'consignmentType': 0,\n",
       " 'url': '/cafe/2022/04/15/1649958044741_a306958f-dedb-4e69-9e29-4fdb2d9db974.jpeg?impolicy=thumb&size=150',\n",
       " 'productHiddenStatus': 0,\n",
       " 'price': 100000000,\n",
       " 'state': 0,\n",
       " 'title': '[24시]아이폰13 미니 13프로 맥스 (애플/삼성전기종 최고가매입)',\n",
       " 'subTitle': None,\n",
       " 'sortDate': '2022-04-15 02:39:40',\n",
       " 'userSeq': 0,\n",
       " 'videoUrl': '',\n",
       " 'viewCount': 0,\n",
       " 'videoProductYn': None,\n",
       " 'productType': '',\n",
       " 'ad': 0,\n",
       " 'adImpUrl': '',\n",
       " 'adClickUrl': '',\n",
       " 'adType': '',\n",
       " 'isConsignment': 0,\n",
       " 'jnPayBadgeFlag': False,\n",
       " 'intJnPayBadgeFlag': 0}"
      ]
     },
     "execution_count": 11,
     "metadata": {},
     "output_type": "execute_result"
    }
   ],
   "source": [
    "data['items'][1000]"
   ]
  },
  {
   "cell_type": "code",
   "execution_count": 1,
   "metadata": {},
   "outputs": [
    {
     "ename": "NameError",
     "evalue": "name 'title' is not defined",
     "output_type": "error",
     "traceback": [
      "\u001b[1;31m---------------------------------------------------------------------------\u001b[0m",
      "\u001b[1;31mNameError\u001b[0m                                 Traceback (most recent call last)",
      "\u001b[1;32m<ipython-input-1-eee3914a8eb9>\u001b[0m in \u001b[0;36m<module>\u001b[1;34m\u001b[0m\n\u001b[1;32m----> 1\u001b[1;33m \u001b[0mtitle\u001b[0m\u001b[1;33m\u001b[0m\u001b[1;33m\u001b[0m\u001b[0m\n\u001b[0m",
      "\u001b[1;31mNameError\u001b[0m: name 'title' is not defined"
     ]
    }
   ],
   "source": [
    "articleUrl\n",
    "articleSeq\n",
    "articleRegDate\n",
    "price\n",
    "title\n",
    "sortDate\n"
   ]
  },
  {
   "cell_type": "code",
   "execution_count": null,
   "metadata": {},
   "outputs": [],
   "source": []
  }
 ],
 "metadata": {
  "kernelspec": {
   "display_name": "Python 3",
   "language": "python",
   "name": "python3"
  },
  "language_info": {
   "codemirror_mode": {
    "name": "ipython",
    "version": 3
   },
   "file_extension": ".py",
   "mimetype": "text/x-python",
   "name": "python",
   "nbconvert_exporter": "python",
   "pygments_lexer": "ipython3",
   "version": "3.8.5"
  }
 },
 "nbformat": 4,
 "nbformat_minor": 4
}
